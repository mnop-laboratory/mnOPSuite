{
 "cells": [
  {
   "cell_type": "code",
   "execution_count": 1,
   "id": "9a671a25",
   "metadata": {},
   "outputs": [
    {
     "data": {
      "text/plain": [
       "'C:\\\\Users\\\\mnopl\\\\Desktop\\\\Software\\\\mnOPSuite\\\\PRISM\\\\python'"
      ]
     },
     "execution_count": 1,
     "metadata": {},
     "output_type": "execute_result"
    }
   ],
   "source": [
    "pwd"
   ]
  },
  {
   "cell_type": "code",
   "execution_count": 3,
   "id": "5fcab269",
   "metadata": {},
   "outputs": [],
   "source": [
    "import alpha\n",
    "import numpy as np\n",
    "from matplotlib import pyplot as plt"
   ]
  },
  {
   "cell_type": "code",
   "execution_count": 17,
   "id": "f2d872b2",
   "metadata": {},
   "outputs": [
    {
     "name": "stdout",
     "output_type": "stream",
     "text": [
      "Frequency step (cm-1): 42.1052631578948\n"
     ]
    },
    {
     "data": {
      "image/png": "[encoded data removed]",
      "text/plain": [
       "<Figure size 432x288 with 1 Axes>"
      ]
     },
     "metadata": {
      "needs_background": "light"
     },
     "output_type": "display_data"
    }
   ],
   "source": [
    "wns=np.linspace(750,1550.,20)\n",
    "pumpgen=alpha.pump_generator()\n",
    "pumps = pumpgen(wns)\n",
    "plt.plot(wns,pumps,marker='o')\n",
    "plt.ylabel('Pump %')\n",
    "plt.xlabel('Frequency (cm-1)')\n",
    "print('Frequency step (cm-1):',np.diff(wns)[0])"
   ]
  },
  {
   "cell_type": "code",
   "execution_count": 18,
   "id": "15571067",
   "metadata": {},
   "outputs": [
    {
     "name": "stdout",
     "output_type": "stream",
     "text": [
      "ws://192.168.51.1:8000 connected!\n",
      "Programming alpha replication entry i=0 of 20...\n",
      "@mir setsignal 13333\n",
      "@mir setpump 51.5\n",
      "@rep save 0\n",
      "Programming alpha replication entry i=1 of 20...\n",
      "@mir setsignal 12625\n",
      "@mir setpump 40.1\n",
      "@rep save 1\n",
      "Programming alpha replication entry i=2 of 20...\n",
      "@mir setsignal 11987\n",
      "@mir setpump 30.5\n",
      "@rep save 2\n",
      "Programming alpha replication entry i=3 of 20...\n",
      "@mir setsignal 11411\n",
      "@mir setpump 22.8\n",
      "@rep save 3\n",
      "Programming alpha replication entry i=4 of 20...\n",
      "@mir setsignal 10888\n",
      "@mir setpump 16.9\n",
      "@rep save 4\n",
      "Programming alpha replication entry i=5 of 20...\n",
      "@mir setsignal 10411\n",
      "@mir setpump 12.7\n",
      "@rep save 5\n",
      "Programming alpha replication entry i=6 of 20...\n",
      "@mir setsignal 9974\n",
      "@mir setpump 9.9\n",
      "@rep save 6\n",
      "Programming alpha replication entry i=7 of 20...\n",
      "@mir setsignal 9572\n",
      "@mir setpump 8.0\n",
      "@rep save 7\n",
      "Programming alpha replication entry i=8 of 20...\n",
      "@mir setsignal 9201\n",
      "@mir setpump 7.0\n",
      "@rep save 8\n",
      "Programming alpha replication entry i=9 of 20...\n",
      "@mir setsignal 8858\n",
      "@mir setpump 6.4\n",
      "@rep save 9\n",
      "Programming alpha replication entry i=10 of 20...\n",
      "@mir setsignal 8539\n",
      "@mir setpump 6.1\n",
      "@rep save 10\n",
      "Programming alpha replication entry i=11 of 20...\n",
      "@mir setsignal 8243\n",
      "@mir setpump 5.9\n",
      "@rep save 11\n",
      "Programming alpha replication entry i=12 of 20...\n",
      "@mir setsignal 7966\n",
      "@mir setpump 5.7\n",
      "@rep save 12\n",
      "Programming alpha replication entry i=13 of 20...\n",
      "@mir setsignal 7708\n",
      "@mir setpump 5.5\n",
      "@rep save 13\n",
      "Programming alpha replication entry i=14 of 20...\n",
      "@mir setsignal 7466\n",
      "@mir setpump 5.2\n",
      "@rep save 14\n",
      "Programming alpha replication entry i=15 of 20...\n",
      "@mir setsignal 7238\n",
      "@mir setpump 5.0\n",
      "@rep save 15\n",
      "Programming alpha replication entry i=16 of 20...\n",
      "@mir setsignal 7024\n",
      "@mir setpump 5.0\n",
      "@rep save 16\n",
      "Programming alpha replication entry i=17 of 20...\n",
      "@mir setsignal 6822\n",
      "@mir setpump 5.4\n",
      "@rep save 17\n",
      "Programming alpha replication entry i=18 of 20...\n",
      "@mir setsignal 6632\n",
      "@mir setpump 6.3\n",
      "@rep save 18\n",
      "Programming alpha replication entry i=19 of 20...\n",
      "@mir setsignal 6452\n",
      "@mir setpump 7.6\n",
      "@rep save 19\n"
     ]
    }
   ],
   "source": [
    " alpha.set_replicator_table(wns=wns,pumps=pumps)"
   ]
  },
  {
   "cell_type": "code",
   "execution_count": 19,
   "id": "a1361bdc",
   "metadata": {},
   "outputs": [
    {
     "data": {
      "text/plain": [
       "7353.0"
      ]
     },
     "execution_count": 19,
     "metadata": {},
     "output_type": "execute_result"
    }
   ],
   "source": [
    "alpha.wn_to_wl(1360)"
   ]
  },
  {
   "cell_type": "code",
   "execution_count": null,
   "id": "aff15205",
   "metadata": {},
   "outputs": [],
   "source": []
  }
 ],
 "metadata": {
  "kernelspec": {
   "display_name": "Python 3 (ipykernel)",
   "language": "python",
   "name": "python3"
  },
  "language_info": {
   "codemirror_mode": {
    "name": "ipython",
    "version": 3
   },
   "file_extension": ".py",
   "mimetype": "text/x-python",
   "name": "python",
   "nbconvert_exporter": "python",
   "pygments_lexer": "ipython3",
   "version": "3.9.7"
  },
  "toc": {
   "base_numbering": 1,
   "nav_menu": {},
   "number_sections": true,
   "sideBar": true,
   "skip_h1_title": false,
   "title_cell": "Table of Contents",
   "title_sidebar": "Contents",
   "toc_cell": false,
   "toc_position": {},
   "toc_section_display": true,
   "toc_window_display": false
  }
 },
 "nbformat": 4,
 "nbformat_minor": 5
}
