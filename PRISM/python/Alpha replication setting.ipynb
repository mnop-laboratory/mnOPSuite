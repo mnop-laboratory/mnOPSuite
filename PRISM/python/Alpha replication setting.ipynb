{
 "cells": [
  {
   "cell_type": "code",
   "execution_count": 22,
   "id": "9a671a25",
   "metadata": {},
   "outputs": [
    {
     "data": {
      "text/plain": [
       "'C:\\\\Users\\\\mnopl\\\\Desktop\\\\Software\\\\mnOPSuite\\\\PRISM\\\\python'"
      ]
     },
     "execution_count": 22,
     "metadata": {},
     "output_type": "execute_result"
    }
   ],
   "source": [
    "pwd"
   ]
  },
  {
   "cell_type": "code",
   "execution_count": 95,
   "id": "5fcab269",
   "metadata": {},
   "outputs": [
    {
     "data": {
      "text/plain": [
       "<module 'alpha' from 'C:\\\\Users\\\\mnopl\\\\Desktop\\\\Software\\\\mnOPSuite\\\\PRISM\\\\python\\\\alpha.py'>"
      ]
     },
     "execution_count": 95,
     "metadata": {},
     "output_type": "execute_result"
    }
   ],
   "source": [
    "import alpha\n",
    "import numpy as np\n",
    "from matplotlib import pyplot as plt\n",
    "reload(alpha)"
   ]
  },
  {
   "cell_type": "code",
   "execution_count": 35,
   "id": "f2d872b2",
   "metadata": {},
   "outputs": [
    {
     "name": "stdout",
     "output_type": "stream",
     "text": [
      "29\n",
      "c0 + c1*x + c2*x**2\n",
      "4.0e-8*x**2 - 8.0e-5*x + 100.03\n",
      "Frequency step (cm-1): 50.0\n"
     ]
    },
    {
     "data": {
      "image/png": "[encoded data removed]",
      "text/plain": [
       "<Figure size 432x288 with 1 Axes>"
      ]
     },
     "metadata": {
      "needs_background": "light"
     },
     "output_type": "display_data"
    }
   ],
   "source": [
    "wns=np.arange(600,2000.,50)\n",
    "print(len(wns))\n",
    "pumpgen=alpha.pump_generator(wns=(500,1000),pump_vals=(100,99.99))\n",
    "pumps = pumpgen(wns)\n",
    "plt.plot(wns,pumps,marker='o')\n",
    "plt.ylabel('Pump %')\n",
    "plt.xlabel('Frequency (cm-1)')\n",
    "print('Frequency step (cm-1):',np.diff(wns)[0])"
   ]
  },
  {
   "cell_type": "code",
   "execution_count": 27,
   "id": "15571067",
   "metadata": {},
   "outputs": [
    {
     "name": "stdout",
     "output_type": "stream",
     "text": [
      "ws://192.168.51.1:8000 connected!\n",
      "Programming alpha replication entry i=0 of 30...\n",
      "@mir setsignal 20000\n",
      "@mir setpump 100.0\n",
      "@rep save 0\n",
      "Programming alpha replication entry i=1 of 30...\n",
      "@mir setsignal 18182\n",
      "@mir setpump 100.0\n",
      "@rep save 1\n",
      "Programming alpha replication entry i=2 of 30...\n",
      "@mir setsignal 16667\n",
      "@mir setpump 100.0\n",
      "@rep save 2\n",
      "Programming alpha replication entry i=3 of 30...\n",
      "@mir setsignal 15385\n",
      "@mir setpump 100.0\n",
      "@rep save 3\n",
      "Programming alpha replication entry i=4 of 30...\n",
      "@mir setsignal 14286\n",
      "@mir setpump 100.0\n",
      "@rep save 4\n",
      "Programming alpha replication entry i=5 of 30...\n",
      "@mir setsignal 13333\n",
      "@mir setpump 100.0\n",
      "@rep save 5\n",
      "Programming alpha replication entry i=6 of 30...\n",
      "@mir setsignal 12500\n",
      "@mir setpump 100.0\n",
      "@rep save 6\n",
      "Programming alpha replication entry i=7 of 30...\n",
      "@mir setsignal 11765\n",
      "@mir setpump 100.0\n",
      "@rep save 7\n",
      "Programming alpha replication entry i=8 of 30...\n",
      "@mir setsignal 11111\n",
      "@mir setpump 100.0\n",
      "@rep save 8\n",
      "Programming alpha replication entry i=9 of 30...\n",
      "@mir setsignal 10526\n",
      "@mir setpump 100.0\n",
      "@rep save 9\n",
      "Programming alpha replication entry i=10 of 30...\n",
      "@mir setsignal 10000\n",
      "@mir setpump 100.0\n",
      "@rep save 10\n",
      "Programming alpha replication entry i=11 of 30...\n",
      "@mir setsignal 9524\n",
      "@mir setpump 100.0\n",
      "@rep save 11\n",
      "Programming alpha replication entry i=12 of 30...\n",
      "@mir setsignal 9091\n",
      "@mir setpump 100.0\n",
      "@rep save 12\n",
      "Programming alpha replication entry i=13 of 30...\n",
      "@mir setsignal 8696\n",
      "@mir setpump 100.0\n",
      "@rep save 13\n",
      "Programming alpha replication entry i=14 of 30...\n",
      "@mir setsignal 8333\n",
      "@mir setpump 100.0\n",
      "@rep save 14\n",
      "Programming alpha replication entry i=15 of 30...\n",
      "@mir setsignal 8000\n",
      "@mir setpump 100.0\n",
      "@rep save 15\n",
      "Programming alpha replication entry i=16 of 30...\n",
      "@mir setsignal 7692\n",
      "@mir setpump 100.0\n",
      "@rep save 16\n",
      "Programming alpha replication entry i=17 of 30...\n",
      "@mir setsignal 7407\n",
      "@mir setpump 100.0\n",
      "@rep save 17\n",
      "Programming alpha replication entry i=18 of 30...\n",
      "@mir setsignal 7143\n",
      "@mir setpump 100.0\n",
      "@rep save 18\n",
      "Programming alpha replication entry i=19 of 30...\n",
      "@mir setsignal 6897\n",
      "@mir setpump 100.0\n",
      "@rep save 19\n",
      "Programming alpha replication entry i=20 of 30...\n",
      "@mir setsignal 6667\n",
      "@mir setpump 100.0\n",
      "@rep save 20\n",
      "Programming alpha replication entry i=21 of 30...\n",
      "@mir setsignal 6452\n",
      "@mir setpump 100.0\n",
      "@rep save 21\n",
      "Programming alpha replication entry i=22 of 30...\n",
      "@mir setsignal 6250\n",
      "@mir setpump 100.0\n",
      "@rep save 22\n",
      "Programming alpha replication entry i=23 of 30...\n",
      "@mir setsignal 6061\n",
      "@mir setpump 100.0\n",
      "@rep save 23\n",
      "Programming alpha replication entry i=24 of 30...\n",
      "@mir setsignal 5882\n",
      "@mir setpump 100.0\n",
      "@rep save 24\n",
      "Programming alpha replication entry i=25 of 30...\n",
      "@mir setsignal 5714\n",
      "@mir setpump 100.0\n",
      "@rep save 25\n",
      "Programming alpha replication entry i=26 of 30...\n",
      "@mir setsignal 5556\n",
      "@mir setpump 100.0\n",
      "@rep save 26\n",
      "Programming alpha replication entry i=27 of 30...\n",
      "@mir setsignal 5405\n",
      "@mir setpump 100.0\n",
      "@rep save 27\n",
      "Programming alpha replication entry i=28 of 30...\n",
      "@mir setsignal 5263\n",
      "@mir setpump 100.0\n",
      "@rep save 28\n",
      "Programming alpha replication entry i=29 of 30...\n",
      "@mir setsignal 5128\n",
      "@mir setpump 100.0\n",
      "@rep save 29\n"
     ]
    }
   ],
   "source": [
    " alpha.set_replicator_table(wns=wns,pumps=pumps)"
   ]
  },
  {
   "cell_type": "code",
   "execution_count": 29,
   "id": "a1361bdc",
   "metadata": {},
   "outputs": [
    {
     "name": "stdout",
     "output_type": "stream",
     "text": [
      " Volume in drive C is OS\n",
      " Volume Serial Number is 621C-9904\n",
      "\n",
      " Directory of C:\\Users\\mnopl\\Desktop\\Software\\mnOPSuite\\PRISM\\Alpha replicator tables\n",
      "\n",
      "09/15/2022  04:28 PM    <DIR>          .\n",
      "09/15/2022  04:28 PM    <DIR>          ..\n",
      "07/12/2022  07:42 PM    <DIR>          .ipynb_checkpoints\n",
      "06/12/2022  08:05 AM             5,920 2022.05.17_600-1800cm-1_x40.txt\n",
      "06/20/2022  11:44 PM             2,917 2022.06.20_750-1550cm-1_x20.txt\n",
      "06/21/2022  05:47 PM                 0 2022.06.21_600-850cm-1x11.txt\n",
      "06/22/2022  10:57 PM             6,056 2022.06.22_600-2000cm-1_x40.txt\n",
      "07/15/2022  12:18 AM             6,045 2022.07.11_600-2000cm-1_x40_RestoredPumps.txt\n",
      "07/11/2022  10:46 PM             5,898 2022.07.11_600-2000cm-1_x40_UpdatedCollimation.txt\n",
      "07/12/2022  08:12 PM             6,044 2022.07.11_600-2000cm-1_x40_UpdatedOptimizationAndLowerPumps.txt\n",
      "08/15/2022  11:15 PM             2,952 2022.08.15_600-1300cm-1_x20_nanoFTIR.txt\n",
      "08/11/2022  03:13 PM             6,198 2022.08.22_600-1500cm-1_x20_nanoFTIR.txt\n",
      "09/15/2022  04:28 PM             4,421 2022.09.15 - 600-2000 cm-1_x30 nanoFTIR - collimation optimized.txt\n",
      "09/15/2022  03:54 PM             1,629 2022.09.15_600-900cm-1 with two VO2 energies too.txt\n",
      "08/29/2022  12:55 PM             3,086 8_29_2022_Prism_STO.txt\n",
      "09/08/2022  05:56 PM            39,370 Alpha replication.ipynb\n",
      "08/24/2022  09:59 PM             6,199 NanoFtir_8_24_22.txt\n",
      "09/13/2022  01:50 PM             1,187 STONANOFTIR_600-900.txt\n",
      "              15 File(s)         97,922 bytes\n",
      "               3 Dir(s)  14,994,714,624 bytes free\n"
     ]
    }
   ],
   "source": [
    "ls \"../Alpha replicator tables\""
   ]
  },
  {
   "cell_type": "code",
   "execution_count": 76,
   "id": "aff15205",
   "metadata": {},
   "outputs": [],
   "source": [
    "dat=np.loadtxt('../Alpha replicator tables/2022.09.15 - 600-2000 cm-1_x30 nanoFTIR - collimation optimized.txt')"
   ]
  },
  {
   "cell_type": "code",
   "execution_count": 62,
   "id": "b484493d",
   "metadata": {},
   "outputs": [
    {
     "data": {
      "text/plain": [
       "[<matplotlib.lines.Line2D at 0x15cb698bee0>]"
      ]
     },
     "execution_count": 62,
     "metadata": {},
     "output_type": "execute_result"
    },
    {
     "data": {
      "image/png": "[encoded data removed]",
      "text/plain": [
       "<Figure size 432x288 with 1 Axes>"
      ]
     },
     "metadata": {
      "needs_background": "light"
     },
     "output_type": "display_data"
    }
   ],
   "source": [
    "ax10s_initial=dat[:,-4]\n",
    "plt.plot(wns,ax10s_initial,marker='o')"
   ]
  },
  {
   "cell_type": "markdown",
   "id": "636f239c",
   "metadata": {},
   "source": [
    "# Values obtained from manual collimation"
   ]
  },
  {
   "cell_type": "code",
   "execution_count": 84,
   "id": "d01c25a4",
   "metadata": {},
   "outputs": [
    {
     "data": {
      "text/plain": [
       "[<matplotlib.lines.Line2D at 0x15cb9126760>]"
      ]
     },
     "execution_count": 84,
     "metadata": {},
     "output_type": "execute_result"
    },
    {
     "data": {
      "image/png": "[encoded data removed]",
      "text/plain": [
       "<Figure size 432x288 with 1 Axes>"
      ]
     },
     "metadata": {
      "needs_background": "light"
     },
     "output_type": "display_data"
    }
   ],
   "source": [
    "wls_ax10s=(15.385,\n",
    "          12.5,\n",
    "          10,\n",
    "          8,\n",
    "           6.9,\n",
    "          6.25,\n",
    "           5.556,\n",
    "          5.128)\n",
    "ax10s_optimized=(4645.75,\n",
    "              4645.50,\n",
    "               4442.50,\n",
    "              4007.50,\n",
    "                 3557.75,\n",
    "                3306.25,\n",
    "                 2773.75,\n",
    "                2425)\n",
    "\n",
    "wls_ax10s=np.array(wls_ax10s)*1000 # in nm\n",
    "wns_ax10s = alpha.wl_to_wn(wls_ax10s)\n",
    "ax10gen=np.polyfit(x=wns_ax10s,y=ax10s_optimized,\n",
    "                            deg=3)\n",
    "ax10s_new = np.polyval(ax10gen,wns)\n",
    "\n",
    "plt.plot(wns_ax10s,ax10s_optimized,ls='',marker='x',markersize=20)\n",
    "plt.plot(wns,ax10s_initial,marker='o')\n",
    "plt.plot(wns,ax10s_new,marker='o')"
   ]
  },
  {
   "cell_type": "markdown",
   "id": "c7733d54",
   "metadata": {},
   "source": [
    "## Record the optimized collimation values"
   ]
  },
  {
   "cell_type": "code",
   "execution_count": 85,
   "id": "1e877fd7",
   "metadata": {},
   "outputs": [],
   "source": [
    "dat[:,-4]=ax10s_new"
   ]
  },
  {
   "cell_type": "code",
   "execution_count": 86,
   "id": "b0e02a5a",
   "metadata": {},
   "outputs": [],
   "source": [
    "np.savetxt('../Alpha replicator tables/2022.09.15 - 600-2000 cm-1_x30 nanoFTIR - collimation optimized.txt',\n",
    "          dat)"
   ]
  },
  {
   "cell_type": "code",
   "execution_count": 80,
   "id": "5d70c884",
   "metadata": {},
   "outputs": [
    {
     "data": {
      "text/plain": [
       "array([ 8.72454194e-13, -6.59665667e-09,  1.98372545e-05, -3.01260697e-02,\n",
       "        2.12813284e+01, -8.32554077e+02])"
      ]
     },
     "execution_count": 80,
     "metadata": {},
     "output_type": "execute_result"
    }
   ],
   "source": [
    "ax10gen"
   ]
  },
  {
   "cell_type": "code",
   "execution_count": 83,
   "id": "c5c2ed9f",
   "metadata": {},
   "outputs": [
    {
     "data": {
      "text/plain": [
       "array([4499.73763624, 4588.62019806, 4643.5365743 , 4669.55608236,\n",
       "       4671.18386259, 4652.39359525, 4616.66021763, 4566.99264101,\n",
       "       4505.96646772, 4435.75670817, 4358.1704979 , 4274.67981459,\n",
       "       4186.45419508, 4094.39345243, 3999.16039297, 3901.21353326,\n",
       "       3800.8398172 , 3698.18733301, 3593.29803031, 3486.14043708,\n",
       "       3376.64237677, 3264.7236853 , 3150.32892807, 3033.46011702,\n",
       "       2914.20942768, 2792.79191614, 2669.57823614, 2545.12735608,\n",
       "       2420.21927607])"
      ]
     },
     "execution_count": 83,
     "metadata": {},
     "output_type": "execute_result"
    }
   ],
   "source": [
    "np.polyval(ax10gen,wns)"
   ]
  },
  {
   "cell_type": "code",
   "execution_count": 88,
   "id": "524616a1",
   "metadata": {},
   "outputs": [
    {
     "name": "stdout",
     "output_type": "stream",
     "text": [
      "[    0.          1964.78        1964.78       18182.\n",
      "   830.          1445.         14000.            37.3783\n",
      "    44.9977     14407.4        14382.9           26.8617\n",
      "  7947.03       14586.9           44.9977       102.086\n",
      "  9437.85        4626.64625698 16829.3        13000.\n",
      "    37.8319    ]\n"
     ]
    }
   ],
   "source": [
    "print(dat[0])"
   ]
  },
  {
   "cell_type": "code",
   "execution_count": null,
   "id": "eadc9e90",
   "metadata": {},
   "outputs": [],
   "source": []
  }
 ],
 "metadata": {
  "kernelspec": {
   "display_name": "Python 3 (ipykernel)",
   "language": "python",
   "name": "python3"
  },
  "language_info": {
   "codemirror_mode": {
    "name": "ipython",
    "version": 3
   },
   "file_extension": ".py",
   "mimetype": "text/x-python",
   "name": "python",
   "nbconvert_exporter": "python",
   "pygments_lexer": "ipython3",
   "version": "3.9.13"
  },
  "toc": {
   "base_numbering": 1,
   "nav_menu": {},
   "number_sections": true,
   "sideBar": true,
   "skip_h1_title": false,
   "title_cell": "Table of Contents",
   "title_sidebar": "Contents",
   "toc_cell": false,
   "toc_position": {},
   "toc_section_display": true,
   "toc_window_display": false
  }
 },
 "nbformat": 4,
 "nbformat_minor": 5
}
